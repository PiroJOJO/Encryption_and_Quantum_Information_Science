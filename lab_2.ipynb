{
 "cells": [
  {
   "cell_type": "markdown",
   "metadata": {},
   "source": [
    "# Алгоритм  Диффи-Хелмана"
   ]
  },
  {
   "cell_type": "markdown",
   "metadata": {},
   "source": [
    "Алгоритм, позволяющий двум сторонам получить общий секретный ключ, используя незащищен ный от прослушивания, но защищенный от подмены канал связи"
   ]
  },
  {
   "cell_type": "code",
   "execution_count": 1,
   "metadata": {},
   "outputs": [],
   "source": [
    "import math\n",
    "import numpy\n",
    "import random"
   ]
  },
  {
   "cell_type": "markdown",
   "metadata": {},
   "source": [
    "Каждый из абонентов выбирает любое сообщение"
   ]
  },
  {
   "cell_type": "code",
   "execution_count": 2,
   "metadata": {},
   "outputs": [
    {
     "name": "stdout",
     "output_type": "stream",
     "text": [
      "alice: 70\n",
      "bob: 53\n"
     ]
    }
   ],
   "source": [
    "alice = random.randint(1, 100)\n",
    "bob = random.randint(1, 100)\n",
    "print(f\"alice: {alice}\")\n",
    "print(f\"bob: {bob}\")"
   ]
  },
  {
   "cell_type": "markdown",
   "metadata": {},
   "source": [
    "Каждому абоненту известны числа d и p, где p - это простое число"
   ]
  },
  {
   "cell_type": "code",
   "execution_count": 3,
   "metadata": {},
   "outputs": [],
   "source": [
    "d = 29\n",
    "p = 53"
   ]
  },
  {
   "cell_type": "markdown",
   "metadata": {},
   "source": [
    "Каждый вычисляет значение функции y = (d ** x) % p, где x - выбранное число абонента"
   ]
  },
  {
   "cell_type": "code",
   "execution_count": 4,
   "metadata": {},
   "outputs": [
    {
     "data": {
      "text/plain": [
       "10"
      ]
     },
     "execution_count": 4,
     "metadata": {},
     "output_type": "execute_result"
    }
   ],
   "source": [
    "y_a = (d**alice) % p\n",
    "y_a"
   ]
  },
  {
   "cell_type": "markdown",
   "metadata": {},
   "source": [
    "Далее мы получаем значение функции y(x_bob)"
   ]
  },
  {
   "cell_type": "code",
   "execution_count": 5,
   "metadata": {},
   "outputs": [],
   "source": [
    "y_b = 47"
   ]
  },
  {
   "cell_type": "markdown",
   "metadata": {},
   "source": [
    "Вычисляем наш общий секретный ключ"
   ]
  },
  {
   "cell_type": "code",
   "execution_count": 7,
   "metadata": {},
   "outputs": [
    {
     "data": {
      "text/plain": [
       "15"
      ]
     },
     "execution_count": 7,
     "metadata": {},
     "output_type": "execute_result"
    }
   ],
   "source": [
    "k = (y_b ** alice) % p\n",
    "k"
   ]
  },
  {
   "cell_type": "markdown",
   "metadata": {},
   "source": [
    "# Алгоритм Эль Гамаля"
   ]
  },
  {
   "cell_type": "markdown",
   "metadata": {},
   "source": [
    "Находим открытое для всех абонентов число p - простое"
   ]
  },
  {
   "cell_type": "code",
   "execution_count": 11,
   "metadata": {},
   "outputs": [
    {
     "name": "stdout",
     "output_type": "stream",
     "text": [
      "p = 131\n"
     ]
    }
   ],
   "source": [
    "p = random.choice([i for i in range(120, 150) if math.gcd(150, i) == 1])\n",
    "p = 131\n",
    "print(f'p = {p}')"
   ]
  },
  {
   "cell_type": "markdown",
   "metadata": {},
   "source": [
    "Выбираем также открытое чило g - первообразный корень числа p"
   ]
  },
  {
   "cell_type": "markdown",
   "metadata": {},
   "source": [
    "![Alt text](image.png)"
   ]
  },
  {
   "cell_type": "code",
   "execution_count": 12,
   "metadata": {},
   "outputs": [],
   "source": [
    "g = 2"
   ]
  },
  {
   "cell_type": "markdown",
   "metadata": {},
   "source": [
    "Каждый абонент выбирает свое секретное число x, которое лежжит в диапозоне 1 < x < p - ЗАКРТЫЙ КЛЮЧ"
   ]
  },
  {
   "cell_type": "code",
   "execution_count": 13,
   "metadata": {},
   "outputs": [
    {
     "name": "stdout",
     "output_type": "stream",
     "text": [
      "x = 50\n"
     ]
    }
   ],
   "source": [
    "x = random.randint(1, p)\n",
    "print(f'x = {x}')"
   ]
  },
  {
   "cell_type": "markdown",
   "metadata": {},
   "source": [
    "Также каждый для себя вычисляет ОТКРЫТЫЙ КЛЮЧ в формате (p, g, y)"
   ]
  },
  {
   "cell_type": "code",
   "execution_count": 14,
   "metadata": {},
   "outputs": [
    {
     "name": "stdout",
     "output_type": "stream",
     "text": [
      "Открытый ключ p = 131, g = 2, y = 80\n"
     ]
    }
   ],
   "source": [
    "y = (g **x) % p\n",
    "print(f'Открытый ключ p = {p}, g = {g}, y = {y}')"
   ]
  },
  {
   "cell_type": "markdown",
   "metadata": {},
   "source": [
    "## Зашифровка открытым ключом для алгоритма Эль Гамаля"
   ]
  },
  {
   "cell_type": "code",
   "execution_count": 15,
   "metadata": {},
   "outputs": [],
   "source": [
    "# Для зашифровки необходимо, чтобы передаваемое чилос было меньше p\n",
    "def shifr(p1, g1, y1, m):\n",
    "    k = random.randint(1, p1 - 1)\n",
    "    print(f'k = {k}')\n",
    "    a = (g1 ** k) % p1\n",
    "    b = (y1 ** k * m) % p1\n",
    "    print(f'a = {a}, b = {b}')\n",
    "    return a, b"
   ]
  },
  {
   "cell_type": "code",
   "execution_count": 18,
   "metadata": {},
   "outputs": [
    {
     "name": "stdout",
     "output_type": "stream",
     "text": [
      "k = 40\n",
      "a = 84, b = 27\n",
      "84 27\n"
     ]
    }
   ],
   "source": [
    "a1, b1 = shifr(131, 2, 116, 5) # p, g, y_bob\n",
    "print(a1, b1)"
   ]
  },
  {
   "cell_type": "markdown",
   "metadata": {},
   "source": [
    "## Расшифровка сообщения своим закрытым ключом"
   ]
  },
  {
   "cell_type": "code",
   "execution_count": 19,
   "metadata": {},
   "outputs": [
    {
     "name": "stdout",
     "output_type": "stream",
     "text": [
      "Число от Боба = 16\n"
     ]
    }
   ],
   "source": [
    "def ras_shifr(a_bob, b_bob):\n",
    "    m = b_bob * (a_bob**(p-1-x)) % p\n",
    "    return m\n",
    "print(f'Число от Боба = {ras_shifr(107, 91)}') # a и b от Боба"
   ]
  }
 ],
 "metadata": {
  "kernelspec": {
   "display_name": "Python 3",
   "language": "python",
   "name": "python3"
  },
  "language_info": {
   "codemirror_mode": {
    "name": "ipython",
    "version": 3
   },
   "file_extension": ".py",
   "mimetype": "text/x-python",
   "name": "python",
   "nbconvert_exporter": "python",
   "pygments_lexer": "ipython3",
   "version": "3.11.9"
  },
  "orig_nbformat": 4
 },
 "nbformat": 4,
 "nbformat_minor": 2
}
